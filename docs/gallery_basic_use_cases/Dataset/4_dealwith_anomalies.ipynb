{
  "cells": [
    {
      "cell_type": "markdown",
      "metadata": {},
      "source": [
        "\n# Dealing with data anomalies\n\nThis code will show you how to deal with anomalies in raw data or their metadata, from corrupted files to differences in sample frequency.\n"
      ]
    },
    {
      "cell_type": "markdown",
      "metadata": {},
      "source": [
        "## Preambule : what is called an anomaly ?\nFor OSmOSE, audio metadata refers to any audio information collected both from audio file header or from audio content after file reading at our dataset uploading. Audio metadata read from file header (ie `read_header(audio_file)`):\n\n1. filename: check filenames for consistency, especially they have to contain a unique timestamp template\n2. timestamp\n3. extension : check that are only .wav files are present (.WAV files represent an anomaly)\n4. format\n5. duration\n6. sample rate\n7. dutycyle (timedelta between current timestamp and previous one)\n8. volume\n9. sampwidth\n10. number of channels (stereo or mono)\n11. subtype (eg PCM16, see rumengol)\nAudio metadata extracted from audio content (ie after data = audio_f.read() )\n12. min and max of sample amplitude\n\n"
      ]
    },
    {
      "cell_type": "markdown",
      "metadata": {},
      "source": [
        "Basic scan\n\n"
      ]
    },
    {
      "cell_type": "code",
      "execution_count": null,
      "metadata": {
        "collapsed": false
      },
      "outputs": [],
      "source": [
        "# - this scan only look at audio metadata from headers (1 to 11)\n# - run within the jupyter hub session\n# - perform the tests 1-3 and 4"
      ]
    },
    {
      "cell_type": "markdown",
      "metadata": {},
      "source": [
        "Heavy scan\n\n"
      ]
    },
    {
      "cell_type": "code",
      "execution_count": null,
      "metadata": {
        "collapsed": false
      },
      "outputs": [],
      "source": [
        "# - it will load all audio files and collect all \n# - run with pbs jobs\n# - perform all tests"
      ]
    },
    {
      "cell_type": "markdown",
      "metadata": {},
      "source": [
        "Light anomaly tests\n\n"
      ]
    },
    {
      "cell_type": "code",
      "execution_count": null,
      "metadata": {
        "collapsed": false
      },
      "outputs": [],
      "source": [
        "# 4. len(np.unique) > 1 sur duration (round to second) \n# 5. len(np.unique) > 1 sur sample_rate \n# 6. len(np.unique) > 1 sur inter_duration (round to second)"
      ]
    },
    {
      "cell_type": "markdown",
      "metadata": {},
      "source": [
        "Strong anomaly tests\n\n"
      ]
    },
    {
      "cell_type": "code",
      "execution_count": null,
      "metadata": {
        "collapsed": false
      },
      "outputs": [],
      "source": [
        "# 7. at least one file header is corrupted (ie output status of method read_header)\n# 8. at least one wav file cannot be read (ie status of data = audio_f.read() )\n# 9. at least one audio file contains data out of the range -1:1 (based on info 12)\n# 10. at least one audio file extension is not supported (based on info 3)"
      ]
    },
    {
      "cell_type": "markdown",
      "metadata": {},
      "source": [
        "Strong anomaly test failing, the following operations are done:\n\n"
      ]
    },
    {
      "cell_type": "code",
      "execution_count": null,
      "metadata": {
        "collapsed": false
      },
      "outputs": [],
      "source": [
        "# - interrupt upload\n# - print the failing test(s) and the filename(s) concerned\n# - block the use of force_upload\n# - suggest to do a complete scan of the dataset\n# - orient the user to the notebook \u00abvisualize and understand my audio metadata\u00bb\n# - orient the user to the notebook \u00abhandle my badly shaped dataset \u00bb"
      ]
    },
    {
      "cell_type": "markdown",
      "metadata": {},
      "source": [
        "Light anomaly test failing, the following operations are done:\n\n"
      ]
    },
    {
      "cell_type": "code",
      "execution_count": null,
      "metadata": {
        "collapsed": false
      },
      "outputs": [],
      "source": [
        "# - print the failing test(s) and the filename(s) concerned\n# - suggest using force_upload\n# - orient the user to the notebook \u00abvisualize and understand my audio metadata\u00bb"
      ]
    },
    {
      "cell_type": "markdown",
      "metadata": {},
      "source": [
        "## Codes\n\n"
      ]
    },
    {
      "cell_type": "code",
      "execution_count": null,
      "metadata": {
        "collapsed": false
      },
      "outputs": [],
      "source": [
        "# sphinx_gallery_thumbnail_path = '_static/thumbnail_anomalies.png'\n\nfrom pathlib import Path\nfrom OSmOSE import Dataset"
      ]
    },
    {
      "cell_type": "markdown",
      "metadata": {},
      "source": [
        "Let's build the dataset following  `sphx_glr_gallery_basic_use_cases_Dataset_1_build_dataset.py`\n\n"
      ]
    },
    {
      "cell_type": "code",
      "execution_count": null,
      "metadata": {
        "collapsed": false
      },
      "outputs": [],
      "source": [
        "path_osmose_dataset = \"/home6/cazaudo/Bureau/osmose_sample_datasets/\"\ndataset_name = \"Cetiroise\"\ncampaign_name = \"\"\n\ngps_coordinates = (48.44,-5.05)\ndepth = 20\n\ndataset = Dataset(dataset_path = Path(path_osmose_dataset, campaign_name, dataset_name), gps_coordinates = gps_coordinates, depth = depth)"
      ]
    },
    {
      "cell_type": "markdown",
      "metadata": {},
      "source": [
        "When trying to build this dataset, it will not work directly.\n\n"
      ]
    },
    {
      "cell_type": "code",
      "execution_count": null,
      "metadata": {
        "collapsed": false
      },
      "outputs": [],
      "source": [
        "dataset.build(date_template = \"%Y_%m_%d_%H_%M_%S\" )"
      ]
    },
    {
      "cell_type": "markdown",
      "metadata": {},
      "source": [
        "The variable `force_upload` allows you to upload your dataset on the platform despite detected anomalies.\n\n"
      ]
    },
    {
      "cell_type": "code",
      "execution_count": null,
      "metadata": {
        "collapsed": false
      },
      "outputs": [],
      "source": [
        "force_upload = True\n\ndataset.build(date_template = \"%Y_%m_%d_%H_%M_%S\" , force_upload = force_upload)"
      ]
    }
  ],
  "metadata": {
    "kernelspec": {
      "display_name": "Python 3",
      "language": "python",
      "name": "python3"
    },
    "language_info": {
      "codemirror_mode": {
        "name": "ipython",
        "version": 3
      },
      "file_extension": ".py",
      "mimetype": "text/x-python",
      "name": "python",
      "nbconvert_exporter": "python",
      "pygments_lexer": "ipython3",
      "version": "3.10.12"
    }
  },
  "nbformat": 4,
  "nbformat_minor": 0
}