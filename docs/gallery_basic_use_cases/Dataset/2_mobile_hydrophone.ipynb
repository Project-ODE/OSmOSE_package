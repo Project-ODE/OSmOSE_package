{
 "cells": [
  {
   "cell_type": "markdown",
   "metadata": {},
   "source": [
    "\n# In case of a mobile hydrophone\n\nThis code will show you how to build a OSmOSE dataset in case of a mobile hydrophone.\n"
   ]
  },
  {
   "cell_type": "markdown",
   "metadata": {},
   "source": [
    "## Prerequisites\nThe time-dependent coordinates of your mobile hydrophone should be stored in a csv file, put in the root folder where the audio files are, ie ``{path_osmose_dataset}/dataset/{dataset_name}``, or ``{path_osmose_dataset}/dataset/{campaign_name}/{dataset_name}``. \nIts filename should also contain the term _gps_, and have at least the following standardized column names : timestamp, lat, lon and depth. In this tutorial we will use the file 'gps_depth.csv' of the dataset `SES`.\n\n"
   ]
  },
  {
   "cell_type": "markdown",
   "metadata": {},
   "source": [
    "## Codes\nFollowing code lines are similar to `sphx_glr_gallery_basic_use_cases_Dataset_1_build_dataset.py`. However the timestamps of dataset `SES` cannot be extracted from the filename so we had to prepare it manually and place it into ``{path_osmose_dataset}/dataset/{dataset_name}``.\n\n"
   ]
  },
  {
   "cell_type": "code",
   "execution_count": null,
   "metadata": {
    "collapsed": false
   },
   "outputs": [],
   "source": [
    "# sphinx_gallery_thumbnail_path = '_static/thumbnail_mobile_hydrophone.png'\n\nfrom pathlib import Path\nfrom OSmOSE import Dataset\n\npath_osmose_dataset = \"/home6/cazaudo/Bureau/osmose_sample_datasets/\"\ndataset_name = \"SES\"\ncampaign_name = \"\""
   ]
  },
  {
   "cell_type": "markdown",
   "metadata": {},
   "source": [
    "See how raw data preparation are organized\n\n"
   ]
  },
  {
   "cell_type": "code",
   "execution_count": null,
   "metadata": {
    "collapsed": false
   },
   "outputs": [],
   "source": [
    "for x in Path(path_osmose_dataset, campaign_name, dataset_name).iterdir():\n",
    "    print(x)"
   ]
  },
  {
   "cell_type": "markdown",
   "metadata": {},
   "source": [
    "The csv file containing the time-varying gps coordinates must be assigned to the variable `gps_coordinates`, same for the variable `depth`.\n\n"
   ]
  },
  {
   "cell_type": "code",
   "execution_count": null,
   "metadata": {
    "collapsed": false
   },
   "outputs": [],
   "source": [
    "gps_coordinates = \"gps_depth.csv\"\n",
    "depth = \"gps_depth.csv\""
   ]
  },
  {
   "cell_type": "markdown",
   "metadata": {},
   "source": [
    "Run the method :meth:`OSmOSE.Dataset.Dataset.build` of the class :class:`OSmOSE.Dataset.Dataset` as in `sphx_glr_gallery_basic_use_cases_Dataset_1_build_dataset.py`. Note that we had to set `force_upload` to True to allows the building of the dataset despite detected anomalies; go to `sphx_glr_gallery_basic_use_cases_Dataset_4_dealwith_anomalies.py`\n\n"
   ]
  },
  {
   "cell_type": "code",
   "execution_count": null,
   "metadata": {
    "collapsed": false
   },
   "outputs": [],
   "source": [
    "dataset = Dataset(\n",
    "    dataset_path=Path(path_osmose_dataset, campaign_name, dataset_name),\n",
    "    gps_coordinates=gps_coordinates,\n",
    "    depth=depth,\n",
    ")\n",
    "dataset.build(force_upload=True)"
   ]
  }
 ],
 "metadata": {
  "kernelspec": {
   "display_name": "Python 3",
   "language": "python",
   "name": "python3"
  },
  "language_info": {
   "codemirror_mode": {
    "name": "ipython",
    "version": 3
   },
   "file_extension": ".py",
   "mimetype": "text/x-python",
   "name": "python",
   "nbconvert_exporter": "python",
   "pygments_lexer": "ipython3",
   "version": "3.10.12"
  }
 },
 "nbformat": 4,
 "nbformat_minor": 0
}