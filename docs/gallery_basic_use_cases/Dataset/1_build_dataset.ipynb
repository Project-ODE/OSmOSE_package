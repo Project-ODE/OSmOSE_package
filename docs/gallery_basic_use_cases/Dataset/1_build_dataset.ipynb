{
  "cells": [
    {
      "cell_type": "markdown",
      "metadata": {},
      "source": [
        "\n# First time building a OSmOSE dataset\n\nThis code will show you how to format your raw audio data into a OSmOSE dataset, in the case of a fixed hydrophone.\n"
      ]
    },
    {
      "cell_type": "markdown",
      "metadata": {},
      "source": [
        "## Preambule\nIn our dataset, only three metadata are mandatory for the moment: the timestamp of each audio file, and the gps location and depth of the hydrophone. In this tutorial we will how they can be set in the case of a fixed hydrophone ; for a mobile hydrophone you should pursue with the tutorial `sphx_glr_gallery_basic_use_cases_Dataset_2_mobile_hydrophone.py`.\n\n"
      ]
    },
    {
      "cell_type": "markdown",
      "metadata": {},
      "source": [
        "## How should I prepare my raw data ? \nBefore you can build your dataset: \n\n- choose a dataset name (should not contain any special character, including '-'\u207e ; \n- create the folder ``{local_working_dir}/dataset/{dataset_name}``, or ``{local_working_dir}/dataset/{campaign_name}/{dataset_name}`` in case your dataset is part of a recording campaign; \n- place in this folder your audio data, they can be individual files or contain within multiple sub-folders ; \n\n"
      ]
    },
    {
      "cell_type": "markdown",
      "metadata": {},
      "source": [
        "## How my timestamps are set ? \nThe two following solutions are possible depending on whether timestamps are contained in the audio filenames:\n\n- if this is the case, you just have to pass us the \"timestamp signature\" through the variable ``date_template`` (eg \"%Y%m%d_%H%M%S\")\n- if not, you have to create the timestamp.csv file yourself following this [template](example_timestamp.csv)_ ; in this file your timestamps can follow any signature as long as it is provided in the ``date_template`` variable. See `sphx_glr_gallery_basic_use_cases_Dataset_2_mobile_hydrophone.py` for a code example on another dataset.\n\n"
      ]
    },
    {
      "cell_type": "markdown",
      "metadata": {},
      "source": [
        "## Codes\n\n"
      ]
    },
    {
      "cell_type": "code",
      "execution_count": null,
      "metadata": {
        "collapsed": false
      },
      "outputs": [],
      "source": [
        "# sphinx_gallery_thumbnail_path = '_static/dataset_metadata.png'\n\n\nfrom pathlib import Path\nfrom OSmOSE import Dataset"
      ]
    },
    {
      "cell_type": "markdown",
      "metadata": {},
      "source": [
        "You first have to set the `path_osmose_dataset`, which is where your dataset named `dataset_name` should be ; unless it is part of a recording campaign named `campaign_name`, your dataset should then be placed in `{path_osmose_dataset}/{campaign_name}/{dataset_name}`.\n\n"
      ]
    },
    {
      "cell_type": "code",
      "execution_count": null,
      "metadata": {
        "collapsed": false
      },
      "outputs": [],
      "source": [
        "path_osmose_dataset = \"/home6/cazaudo/Bureau/osmose_sample_datasets/\"\ndataset_name = \"SPM\"\ncampaign_name = \"\" # default value ; so no need to define it if your dataset is not part of a campaign"
      ]
    },
    {
      "cell_type": "markdown",
      "metadata": {},
      "source": [
        "In our dataset, we have made mandatory the setting of two metadata variables, namely `gps_coordinates` (tuple of (latitude , longitude) coordinates in decimal degree) and `depth` (positive integer in meter) of the hydrophone. \n\n"
      ]
    },
    {
      "cell_type": "code",
      "execution_count": null,
      "metadata": {
        "collapsed": false
      },
      "outputs": [],
      "source": [
        "gps_coordinates = (46.89,-56.54)\ndepth = 20"
      ]
    },
    {
      "cell_type": "markdown",
      "metadata": {},
      "source": [
        "Before building your dataset, let's review two optional parameters. If the timezone of your data happens to be different from the different value UTC+00:00, use the input argument `timezone` of :class:`OSmOSE.Dataset.Dataset` to make your timestamps timezone-aware, following the str format `\"+02:00\"` for UTC+02:00 for example.\n\n"
      ]
    },
    {
      "cell_type": "code",
      "execution_count": null,
      "metadata": {
        "collapsed": false
      },
      "outputs": [],
      "source": [
        "timezone = \"-03:00\""
      ]
    },
    {
      "cell_type": "markdown",
      "metadata": {},
      "source": [
        "The variable `date_template` should be used to help us extracting the timestamp from your audio filenames. The default template is \"%Y%m%d_%H%M%S\", if you have a different one set its value in `date_template` with the same strftime format.\n\n"
      ]
    },
    {
      "cell_type": "code",
      "execution_count": null,
      "metadata": {
        "collapsed": false
      },
      "outputs": [],
      "source": [
        "date_template = \"%Y_%m_%dT%H:%M:%S\""
      ]
    },
    {
      "cell_type": "markdown",
      "metadata": {},
      "source": [
        "Run the method :meth:`OSmOSE.Dataset.Dataset.build` of the class :class:`OSmOSE.Dataset.Dataset`, and that's it your dataset is now OSmOSE compatible !\n\n"
      ]
    },
    {
      "cell_type": "code",
      "execution_count": null,
      "metadata": {
        "collapsed": false
      },
      "outputs": [],
      "source": [
        "dataset = Dataset(dataset_path = Path(path_osmose_dataset, campaign_name, dataset_name), gps_coordinates = gps_coordinates, depth = depth, timezone = timezone)\ndataset.build(date_template = date_template)"
      ]
    }
  ],
  "metadata": {
    "kernelspec": {
      "display_name": "Python 3",
      "language": "python",
      "name": "python3"
    },
    "language_info": {
      "codemirror_mode": {
        "name": "ipython",
        "version": 3
      },
      "file_extension": ".py",
      "mimetype": "text/x-python",
      "name": "python",
      "nbconvert_exporter": "python",
      "pygments_lexer": "ipython3",
      "version": "3.10.12"
    }
  },
  "nbformat": 4,
  "nbformat_minor": 0
}