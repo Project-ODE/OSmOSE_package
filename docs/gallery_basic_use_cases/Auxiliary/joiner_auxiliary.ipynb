{
 "cells": [
  {
   "cell_type": "markdown",
   "metadata": {},
   "source": [
    "\n# Join with csv files and ERA5 data\n\nThis code will join welch spectra with variables from ERA5 within a pandas dataframe\n"
   ]
  },
  {
   "cell_type": "markdown",
   "metadata": {},
   "source": [
    "## ERA5 downloading\nTo use this code you will first need to download and format some ERA5 data : to do so, please use this [notebook](./download_ERA5.html)_. For OSmOSE members, this notebook can be directly executing\non our [Google drive team](https://drive.google.com/drive/folders/1QtNjUo1EaGEKSs4BY_E9iRUSWAlw4bOs) \n\n"
   ]
  },
  {
   "cell_type": "markdown",
   "metadata": {},
   "source": [
    "## Requirement\nThis code uses latitude and longitude coordinates of the hydrophone (which can be time-dependent or not) to join welch spectra to ERA5. All other instrument auxiliary variables to be joined (eg depth, accelerometer) MUST be present in the same csv file where lat and lon are stored.\n\n"
   ]
  },
  {
   "cell_type": "markdown",
   "metadata": {},
   "source": [
    "## Codes\n\n"
   ]
  },
  {
   "cell_type": "code",
   "execution_count": null,
   "metadata": {
    "collapsed": false
   },
   "outputs": [],
   "source": [
    "# sphinx_gallery_thumbnail_path = '_static/thumbnail_joiner_auxiliary.png'"
   ]
  },
  {
   "cell_type": "markdown",
   "metadata": {},
   "source": [
    "Define dataset path and name\n\n"
   ]
  },
  {
   "cell_type": "code",
   "execution_count": null,
   "metadata": {
    "collapsed": false
   },
   "outputs": [],
   "source": [
    "from pathlib import Path\nfrom OSmOSE.Auxiliary import Auxiliary\n\n\npath_osmose_dataset = \"/home6/cazaudo/Bureau/osmose_sample_datasets/\"\ndataset_name = \"SES\"\ncampaign_name = \"\"\n\ndate_template = \"%Y%m%d_%H%M%S\""
   ]
  },
  {
   "cell_type": "markdown",
   "metadata": {},
   "source": [
    "Select your set of welch spectra through their time resolution and sampling rate\n\n"
   ]
  },
  {
   "cell_type": "code",
   "execution_count": null,
   "metadata": {
    "collapsed": false
   },
   "outputs": [],
   "source": [
    "time_resolution_welch = 60\nsample_rate_welch = 38400"
   ]
  },
  {
   "cell_type": "markdown",
   "metadata": {},
   "source": [
    "Instanciate the class :class:`OSmOSE.Auxiliary.Auxiliary` \n\n"
   ]
  },
  {
   "cell_type": "code",
   "execution_count": null,
   "metadata": {
    "collapsed": false
   },
   "outputs": [],
   "source": [
    "joiner = Auxiliary(\n",
    "    path_osmose_dataset, dataset_name, time_resolution_welch, sample_rate_welch\n",
    ")"
   ]
  },
  {
   "cell_type": "markdown",
   "metadata": {},
   "source": [
    "Anytime you can print the joiner instance to visualize the dataframe being joined\n\n"
   ]
  },
  {
   "cell_type": "code",
   "execution_count": null,
   "metadata": {
    "collapsed": false
   },
   "outputs": [],
   "source": [
    "print(joiner)"
   ]
  },
  {
   "cell_type": "markdown",
   "metadata": {},
   "source": [
    "The method :meth:`OSmOSE.Auxiliary.Auxiliary.join_welch` will perform a first spatio-temporal join\nbetween welch spectra and instrument auxiliary data\n\n"
   ]
  },
  {
   "cell_type": "code",
   "execution_count": null,
   "metadata": {
    "collapsed": false
   },
   "outputs": [],
   "source": [
    "joiner.join_welch()"
   ]
  },
  {
   "cell_type": "markdown",
   "metadata": {},
   "source": [
    "Use the method :meth:`OSmOSE.Auxiliary.Auxiliary.join_other_csv_to_df` to perform any subsequent spatio-temporal joins\nwith variables contained in a csv file given in input\n\n"
   ]
  },
  {
   "cell_type": "code",
   "execution_count": null,
   "metadata": {
    "collapsed": false
   },
   "outputs": [],
   "source": [
    "# joiner.join_other_csv_to_df('environment/insitu_buoy.csv')"
   ]
  },
  {
   "cell_type": "markdown",
   "metadata": {},
   "source": [
    "Use the method :meth:`OSmOSE.Auxiliary.Auxiliary.join_era` to perform spatio-temporal join with ERA5 data\n\n"
   ]
  },
  {
   "cell_type": "code",
   "execution_count": null,
   "metadata": {
    "collapsed": false
   },
   "outputs": [],
   "source": [
    "joiner.join_era()"
   ]
  },
  {
   "cell_type": "markdown",
   "metadata": {},
   "source": [
    "Use the method :meth:`OSmOSE.Auxiliary.Auxiliary.save_aux_data` to save your joined data into a csv file\n\n"
   ]
  },
  {
   "cell_type": "code",
   "execution_count": null,
   "metadata": {
    "collapsed": false
   },
   "outputs": [],
   "source": [
    "joiner.save_aux_data()"
   ]
  }
 ],
 "metadata": {
  "kernelspec": {
   "display_name": "Python 3",
   "language": "python",
   "name": "python3"
  },
  "language_info": {
   "codemirror_mode": {
    "name": "ipython",
    "version": 3
   },
   "file_extension": ".py",
   "mimetype": "text/x-python",
   "name": "python",
   "nbconvert_exporter": "python",
   "pygments_lexer": "ipython3",
   "version": "3.10.12"
  }
 },
 "nbformat": 4,
 "nbformat_minor": 0
}