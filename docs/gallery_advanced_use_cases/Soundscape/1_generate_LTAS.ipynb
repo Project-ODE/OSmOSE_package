{
 "cells": [
  {
   "cell_type": "markdown",
   "metadata": {},
   "source": [
    "\n# LTAS (Long Term Averaged Spectrograms)\n\nThis code will show you how to compute LTAS from audio file-level welch spectra\n"
   ]
  },
  {
   "cell_type": "markdown",
   "metadata": {},
   "source": [
    "# Prerequisites\nYou first need to compute audio file-level spectrograms before computing LTAS ; see the use case `sphx_glr_gallery_basic_use_cases_Spectrogram_2_tune_parameters.py` to do this.\n\n"
   ]
  },
  {
   "cell_type": "markdown",
   "metadata": {},
   "source": [
    "# Codes\n\n"
   ]
  },
  {
   "cell_type": "code",
   "execution_count": null,
   "metadata": {
    "collapsed": false
   },
   "outputs": [],
   "source": [
    "from pathlib import Path\n",
    "from OSmOSE import Spectrogram\n",
    "import glob\n",
    "\n",
    "path_osmose_dataset = \"/home6/cazaudo/Bureau/osmose_sample_datasets/\"\n",
    "dataset_name = \"SPM\"\n",
    "campaign_name = \"\"\n",
    "\n",
    "spectrogram = Spectrogram(\n",
    "    dataset_path=Path(path_osmose_dataset, campaign_name, dataset_name)\n",
    ")"
   ]
  },
  {
   "cell_type": "markdown",
   "metadata": {},
   "source": [
    "## Parameters of LTAS \nGenerate sequential LTAS : Sequential means that your welch spectra are processed over successive time period of fixed duration defined by the variable `time_scale` in the cell below (eg, this period can be set to one week, such that one soundscape figure will be generated for each successive week). `time_scale` can be set to the following values:\n\n- H for hours\n- D for days \n- M for months\n- Y for years\n- set `time_scale='all'` to generate a LTAS over your entire dataset.\n\n"
   ]
  },
  {
   "cell_type": "markdown",
   "metadata": {},
   "source": [
    "`time_resolution` and `sample_rate` allow us to identify your welch folder which sould be located in `processed/welch/` with a folder name following `{time_resolution}_{sample_rate}`.\n`Freq_min` (in Hz, default value 0)  and `Freq_max` (in Hz, default value fs/2) are respectively minimum and maximum frequencies to pass-band filter welch spectra (only available for SPL)\n\n"
   ]
  },
  {
   "cell_type": "code",
   "execution_count": null,
   "metadata": {
    "collapsed": false
   },
   "outputs": [],
   "source": [
    "dataset_sr = 4000\n",
    "time_res = 60\n",
    "time_scale = \"all\"\n",
    "\n",
    "spectrogram.build_LTAS(\n",
    "    time_resolution=time_res, sample_rate=dataset_sr, time_scale=time_scale\n",
    ")"
   ]
  },
  {
   "cell_type": "markdown",
   "metadata": {},
   "source": [
    "## Visualize an example of LTAS \n\n"
   ]
  },
  {
   "cell_type": "code",
   "execution_count": null,
   "metadata": {
    "collapsed": false
   },
   "outputs": [],
   "source": [
    "spectrogram_path = glob.glob(\n",
    "    path_osmose_dataset + f\"{dataset_name}/processed/LTAS/LTAS_{time_scale}.png\"\n",
    ")\n",
    "\n",
    "from matplotlib import pyplot as plt\n",
    "from matplotlib import image as mpimg\n",
    "\n",
    "image = mpimg.imread(spectrogram_path[0])\n",
    "plt.imshow(image, interpolation=\"nearest\", aspect=\"auto\")\n",
    "\n",
    "ax = plt.gca()\n",
    "ax.xaxis.set_tick_params(labelbottom=False)\n",
    "ax.yaxis.set_tick_params(labelleft=False)\n",
    "ax.set_xticks([])\n",
    "ax.set_yticks([])\n",
    "\n",
    "plt.show()"
   ]
  }
 ],
 "metadata": {
  "kernelspec": {
   "display_name": "Python 3",
   "language": "python",
   "name": "python3"
  },
  "language_info": {
   "codemirror_mode": {
    "name": "ipython",
    "version": 3
   },
   "file_extension": ".py",
   "mimetype": "text/x-python",
   "name": "python",
   "nbconvert_exporter": "python",
   "pygments_lexer": "ipython3",
   "version": "3.10.12"
  }
 },
 "nbformat": 4,
 "nbformat_minor": 0
}