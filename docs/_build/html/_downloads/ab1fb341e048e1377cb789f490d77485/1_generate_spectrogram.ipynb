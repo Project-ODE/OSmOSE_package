{
  "cells": [
    {
      "cell_type": "markdown",
      "metadata": {},
      "source": [
        "\n# Generation with default parameters\n\nThis code will show you how to compute spectrograms\n"
      ]
    },
    {
      "cell_type": "markdown",
      "metadata": {},
      "source": [
        "## Prerequisites\nYour dataset must be built before you can do any processing on it ; see the use case `sphx_glr_gallery_basic_use_cases_Dataset_1_build_dataset.py` to do this.\n\n"
      ]
    },
    {
      "cell_type": "markdown",
      "metadata": {},
      "source": [
        "## Spectrogram size : a subject of matter ? \nWhatever you intend to do with it, spectrogram size is most often a subject of matter. For example, to perform manual annotation on the spectrograms of our example here, containing \nmore than 40k spectra, the user should be aware that numerical compression during image generation and/or display on your screen will occur. To avoid this, it is recommended that to make this number of spectra as close as your horizontal screen resolution (ie approximately 2000 pixels, as a classical screen resolution is 1920x1080 pixels (horizontal pixels) x (vertical pixels) ).\nIt is also good to know that over-resoluted spectrograms are obtained at a higher memory cost, and sometimes may not fit at all in memory.\n\n"
      ]
    },
    {
      "cell_type": "markdown",
      "metadata": {},
      "source": [
        "## Codes\n\n"
      ]
    },
    {
      "cell_type": "code",
      "execution_count": null,
      "metadata": {
        "collapsed": false
      },
      "outputs": [],
      "source": [
        "from pathlib import Path\nfrom OSmOSE import Spectrogram\nimport glob"
      ]
    },
    {
      "cell_type": "markdown",
      "metadata": {},
      "source": [
        "### Path and dataset names\n\n"
      ]
    },
    {
      "cell_type": "code",
      "execution_count": null,
      "metadata": {
        "collapsed": false
      },
      "outputs": [],
      "source": [
        "path_osmose_dataset = \"/home6/cazaudo/Bureau/osmose_sample_datasets/\"\ndataset_name = \"SPM\"\ncampaign_name = \"\""
      ]
    },
    {
      "cell_type": "markdown",
      "metadata": {},
      "source": [
        "### Run the class :class:`OSmOSE.Spectrogram.Spectrogram`\n\n"
      ]
    },
    {
      "cell_type": "code",
      "execution_count": null,
      "metadata": {
        "collapsed": false
      },
      "outputs": [],
      "source": [
        "spectrogram = Spectrogram(dataset_path = Path(path_osmose_dataset, campaign_name, dataset_name))"
      ]
    },
    {
      "cell_type": "markdown",
      "metadata": {},
      "source": [
        "Printing the spectrogram instance will give you all useful metadata of the dataset from which you want to compute spectrograms\n\n"
      ]
    },
    {
      "cell_type": "code",
      "execution_count": null,
      "metadata": {
        "collapsed": false
      },
      "outputs": [],
      "source": [
        "print(spectrogram)"
      ]
    },
    {
      "cell_type": "markdown",
      "metadata": {},
      "source": [
        "You can check the size of spectrograms that will be generated using :meth:`OSmOSE.Spectrogram.Spectrogram.check_spectro_size`. This spectrogram is very over-resoluted, we will see in \n`sphx_glr_gallery_basic_use_cases_Spectrogram_2_tune_parameters.py` how we can spectrogram parameters to reduce this number.\n\n"
      ]
    },
    {
      "cell_type": "code",
      "execution_count": null,
      "metadata": {
        "collapsed": false
      },
      "outputs": [],
      "source": [
        "spectrogram.check_spectro_size()"
      ]
    },
    {
      "cell_type": "markdown",
      "metadata": {},
      "source": [
        "### Initialize spectrogram parameters\nInitialize everything needed for spectrogram computation ; in particular, this method will segment and/or resample audio files if needed\n\n"
      ]
    },
    {
      "cell_type": "code",
      "execution_count": null,
      "metadata": {
        "collapsed": false
      },
      "outputs": [],
      "source": [
        "spectrogram.initialize()"
      ]
    },
    {
      "cell_type": "markdown",
      "metadata": {},
      "source": [
        "In this first tutorial we will see only one spectrogram parameter, namely the min / max values (in dB) of the spectrogram corlobar . We will see other parameters (for the moment set to their default values) in `sphx_glr_gallery_basic_use_cases_Spectrogram_2_tune_parameters.py`)\n\n"
      ]
    },
    {
      "cell_type": "code",
      "execution_count": null,
      "metadata": {
        "collapsed": false
      },
      "outputs": [],
      "source": [
        "spectrogram.dynamic_min = -80\nspectrogram.dynamic_max = 10"
      ]
    },
    {
      "cell_type": "markdown",
      "metadata": {},
      "source": [
        "### Launch processing\nThe method :meth:`OSmOSE.Spectrogram.Spectrogram.process_all_files` will generate spectrograms for the different pre segmented and/or resampled (if necessary) audio files\n\n"
      ]
    },
    {
      "cell_type": "code",
      "execution_count": null,
      "metadata": {
        "collapsed": false
      },
      "outputs": [],
      "source": [
        "wav_path = glob.glob(path_osmose_dataset+f'{dataset_name}/data/audio/{spectrogram.spectro_duration}_{spectrogram.dataset_sr}/*wav')\nspectrogram.save_spectro_metadata(False)\nspectrogram.process_all_files(list_wav_to_process=wav_path)"
      ]
    },
    {
      "cell_type": "markdown",
      "metadata": {},
      "source": [
        "### Visualize an example of spectrogram \n\n"
      ]
    },
    {
      "cell_type": "code",
      "execution_count": null,
      "metadata": {
        "collapsed": false
      },
      "outputs": [],
      "source": [
        "spectrogram_path = glob.glob(path_osmose_dataset+f'{dataset_name}/processed/spectrogram/{spectrogram.spectro_duration}_{spectrogram.dataset_sr}/{spectrogram.nfft}_{spectrogram.window_size}_{spectrogram.overlap}/image/*png')\n\nfrom matplotlib import pyplot as plt\nfrom matplotlib import image as mpimg\n  \nimage = mpimg.imread(spectrogram_path[2])\nplt.imshow(image, interpolation='nearest', aspect='auto')\n\nax = plt.gca()\nax.xaxis.set_tick_params(labelbottom=False)\nax.yaxis.set_tick_params(labelleft=False)\nax.set_xticks([])\nax.set_yticks([])\n\nplt.show()"
      ]
    }
  ],
  "metadata": {
    "kernelspec": {
      "display_name": "Python 3",
      "language": "python",
      "name": "python3"
    },
    "language_info": {
      "codemirror_mode": {
        "name": "ipython",
        "version": 3
      },
      "file_extension": ".py",
      "mimetype": "text/x-python",
      "name": "python",
      "nbconvert_exporter": "python",
      "pygments_lexer": "ipython3",
      "version": "3.10.12"
    }
  },
  "nbformat": 4,
  "nbformat_minor": 0
}